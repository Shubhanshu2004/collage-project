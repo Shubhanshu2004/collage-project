{
  "nbformat": 4,
  "nbformat_minor": 0,
  "metadata": {
    "colab": {
      "provenance": [],
      "authorship_tag": "ABX9TyNcC3eFUCeSxhIt1E9vNANF",
      "include_colab_link": true
    },
    "kernelspec": {
      "name": "python3",
      "display_name": "Python 3"
    },
    "language_info": {
      "name": "python"
    }
  },
  "cells": [
    {
      "cell_type": "markdown",
      "metadata": {
        "id": "view-in-github",
        "colab_type": "text"
      },
      "source": [
        "<a href=\"https://colab.research.google.com/github/Shubhanshu2004/collage-project/blob/main/ybi.ipynb\" target=\"_parent\"><img src=\"https://colab.research.google.com/assets/colab-badge.svg\" alt=\"Open In Colab\"/></a>"
      ]
    },
    {
      "cell_type": "code",
      "source": [
        "# 📦 Import the required library\n",
        "from textblob import TextBlob\n",
        "\n",
        "# 🧠 Define a function for sentiment analysis\n",
        "def analyze_sentiment():\n",
        "    # ✍️ User se sentence input lena\n",
        "    text = input(\"Enter your sentence: \")\n",
        "\n",
        "    # 📝 Create a TextBlob object\n",
        "    blob = TextBlob(text)\n",
        "\n",
        "    # 📊 Extract polarity and subjectivity\n",
        "    polarity = blob.sentiment.polarity\n",
        "    subjectivity = blob.sentiment.subjectivity\n",
        "\n",
        "    # 📢 Print the result\n",
        "    print(\"\\n--- Sentiment Analysis Result ---\")\n",
        "    print(\"Polarity:\", polarity)\n",
        "    print(\"Subjectivity:\", subjectivity)\n",
        "\n",
        "    # 😀 😞 😐 Emoji-based sentiment output\n",
        "    if polarity > 0:\n",
        "        print(\"Sentiment: Positive 😀\")\n",
        "    elif polarity < 0:\n",
        "        print(\"Sentiment: Negative 😞\")\n",
        "    else:\n",
        "        print(\"Sentiment: Neutral 😐\")\n",
        "\n",
        "# ▶️ Call the function\n",
        "analyze_sentiment()"
      ],
      "metadata": {
        "colab": {
          "base_uri": "https://localhost:8080/"
        },
        "id": "Opwk5nVWxXO6",
        "outputId": "0a549114-6636-40b8-b4fc-ee08e02797d0"
      },
      "execution_count": null,
      "outputs": [
        {
          "output_type": "stream",
          "name": "stdout",
          "text": [
            "Enter your sentence:  sentences = [     \"I love this movie!\",     \"This is terrible.\",     \"I don't care about it.\",     \"What a wonderful day!\",     \"It was just okay.\" ]  for sentence in sentences:     blob = TextBlob(sentence)     polarity = blob.sentiment.polarity     sentiment = \"Positive 😀\" if polarity > 0 else \"Negative 😞\" if polarity < 0 else \"Neutral 😐\"     print(f\"'{sentence}' → {sentiment}\")\n",
            "\n",
            "--- Sentiment Analysis Result ---\n",
            "Polarity: 0.17537878787878788\n",
            "Subjectivity: 0.6742424242424243\n",
            "Sentiment: Positive 😀\n"
          ]
        }
      ]
    }
  ]
}